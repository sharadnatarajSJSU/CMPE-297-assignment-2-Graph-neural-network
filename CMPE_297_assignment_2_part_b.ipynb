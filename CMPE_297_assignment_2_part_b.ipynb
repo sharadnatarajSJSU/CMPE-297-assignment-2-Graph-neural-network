{
  "nbformat": 4,
  "nbformat_minor": 0,
  "metadata": {
    "colab": {
      "provenance": []
    },
    "kernelspec": {
      "name": "python3",
      "display_name": "Python 3"
    },
    "language_info": {
      "name": "python"
    }
  },
  "cells": [
    {
      "cell_type": "markdown",
      "source": [
        "Node level classification using GAT/GCN"
      ],
      "metadata": {
        "id": "knJvepRXqEEt"
      }
    },
    {
      "cell_type": "markdown",
      "metadata": {
        "id": "wSsN7l-Ikf5d"
      },
      "source": [
        "##Install libraries"
      ]
    },
    {
      "cell_type": "code",
      "execution_count": null,
      "metadata": {
        "nbsphinx": "hidden",
        "tags": [
          "CloudRunner"
        ],
        "id": "BPbQdyGvkf5e",
        "colab": {
          "base_uri": "https://localhost:8080/"
        },
        "outputId": "9c95c292-bc0d-402a-a28f-36a604be6dac"
      },
      "outputs": [
        {
          "output_type": "stream",
          "name": "stdout",
          "text": [
            "\u001b[K     |████████████████████████████████| 435 kB 5.4 MB/s \n",
            "\u001b[K     |████████████████████████████████| 500 kB 13.9 MB/s \n",
            "\u001b[K     |████████████████████████████████| 121 kB 46.0 MB/s \n",
            "\u001b[K     |████████████████████████████████| 1.6 MB 33.6 MB/s \n",
            "\u001b[K     |████████████████████████████████| 83 kB 736 kB/s \n",
            "\u001b[K     |████████████████████████████████| 41 kB 215 kB/s \n",
            "\u001b[?25h  Building wheel for mplleaflet (setup.py) ... \u001b[?25l\u001b[?25hdone\n"
          ]
        }
      ],
      "source": [
        "\n",
        "import sys\n",
        "if 'google.colab' in sys.modules:\n",
        "  %pip install -q stellargraph[demos]==1.2.1"
      ]
    },
    {
      "cell_type": "code",
      "execution_count": null,
      "metadata": {
        "nbsphinx": "hidden",
        "tags": [
          "VersionCheck"
        ],
        "id": "DjWZk2ZCkf5e"
      },
      "outputs": [],
      "source": [
        "\n",
        "import stellargraph as sg\n",
        "\n",
        "try:\n",
        "    sg.utils.validate_notebook_version(\"1.2.1\")\n",
        "except AttributeError:\n",
        "    raise ValueError(\n",
        "        f\"This notebook requires StellarGraph version 1.2.1, but a different version {sg.__version__} is installed.  Please see <https://github.com/stellargraph/stellargraph/issues/1172>.\"\n",
        "    ) from None"
      ]
    },
    {
      "cell_type": "code",
      "execution_count": null,
      "metadata": {
        "id": "NVQeMgxMkf5f"
      },
      "outputs": [],
      "source": [
        "import pandas as pd\n",
        "import os\n",
        "\n",
        "import stellargraph as sg\n",
        "from stellargraph.mapper import FullBatchNodeGenerator\n",
        "from stellargraph.layer import GCN\n",
        "\n",
        "from tensorflow.keras import layers, optimizers, losses, metrics, Model\n",
        "from sklearn import preprocessing, model_selection\n",
        "from IPython.display import display, HTML\n",
        "import matplotlib.pyplot as plt\n",
        "%matplotlib inline"
      ]
    },
    {
      "cell_type": "markdown",
      "metadata": {
        "id": "S_523-WKkf5f"
      },
      "source": [
        "## 1. Data loading\n",
        "\n",
        "### Loading the CORA network"
      ]
    },
    {
      "cell_type": "code",
      "execution_count": null,
      "metadata": {
        "tags": [
          "DataLoading"
        ],
        "id": "qTtmkenAkf5g",
        "outputId": "99e6df6f-1672-4bf6-dd82-bb62708bda94",
        "colab": {
          "base_uri": "https://localhost:8080/",
          "height": 52
        }
      },
      "outputs": [
        {
          "output_type": "display_data",
          "data": {
            "text/plain": [
              "<IPython.core.display.HTML object>"
            ],
            "text/html": [
              "The Cora dataset consists of 2708 scientific publications classified into one of seven classes. The citation network consists of 5429 links. Each publication in the dataset is described by a 0/1-valued word vector indicating the absence/presence of the corresponding word from the dictionary. The dictionary consists of 1433 unique words."
            ]
          },
          "metadata": {}
        }
      ],
      "source": [
        "dataset = sg.datasets.Cora()\n",
        "display(HTML(dataset.description))\n",
        "G, node_subjects = dataset.load()"
      ]
    },
    {
      "cell_type": "code",
      "execution_count": null,
      "metadata": {
        "id": "wfBwnwZVkf5h",
        "outputId": "cb4643b8-8fab-4141-9b09-6498fcf35b45",
        "colab": {
          "base_uri": "https://localhost:8080/"
        }
      },
      "outputs": [
        {
          "output_type": "stream",
          "name": "stdout",
          "text": [
            "StellarGraph: Undirected multigraph\n",
            " Nodes: 2708, Edges: 5429\n",
            "\n",
            " Node types:\n",
            "  paper: [2708]\n",
            "    Features: float32 vector, length 1433\n",
            "    Edge types: paper-cites->paper\n",
            "\n",
            " Edge types:\n",
            "    paper-cites->paper: [5429]\n",
            "        Weights: all 1 (default)\n",
            "        Features: none\n"
          ]
        }
      ],
      "source": [
        "print(G.info())"
      ]
    },
    {
      "cell_type": "markdown",
      "metadata": {
        "id": "-VFkaxDZkf5h"
      },
      "source": [
        "Overview of the data"
      ]
    },
    {
      "cell_type": "code",
      "execution_count": null,
      "metadata": {
        "id": "fOTbK7MWkf5h",
        "outputId": "e211050e-8956-46c3-9157-dd928c00d9f4",
        "colab": {
          "base_uri": "https://localhost:8080/",
          "height": 269
        }
      },
      "outputs": [
        {
          "output_type": "execute_result",
          "data": {
            "text/plain": [
              "                        subject\n",
              "Neural_Networks             818\n",
              "Probabilistic_Methods       426\n",
              "Genetic_Algorithms          418\n",
              "Theory                      351\n",
              "Case_Based                  298\n",
              "Reinforcement_Learning      217\n",
              "Rule_Learning               180"
            ],
            "text/html": [
              "\n",
              "  <div id=\"df-4cc55740-51e9-4295-abee-7480f88ab1cf\">\n",
              "    <div class=\"colab-df-container\">\n",
              "      <div>\n",
              "<style scoped>\n",
              "    .dataframe tbody tr th:only-of-type {\n",
              "        vertical-align: middle;\n",
              "    }\n",
              "\n",
              "    .dataframe tbody tr th {\n",
              "        vertical-align: top;\n",
              "    }\n",
              "\n",
              "    .dataframe thead th {\n",
              "        text-align: right;\n",
              "    }\n",
              "</style>\n",
              "<table border=\"1\" class=\"dataframe\">\n",
              "  <thead>\n",
              "    <tr style=\"text-align: right;\">\n",
              "      <th></th>\n",
              "      <th>subject</th>\n",
              "    </tr>\n",
              "  </thead>\n",
              "  <tbody>\n",
              "    <tr>\n",
              "      <th>Neural_Networks</th>\n",
              "      <td>818</td>\n",
              "    </tr>\n",
              "    <tr>\n",
              "      <th>Probabilistic_Methods</th>\n",
              "      <td>426</td>\n",
              "    </tr>\n",
              "    <tr>\n",
              "      <th>Genetic_Algorithms</th>\n",
              "      <td>418</td>\n",
              "    </tr>\n",
              "    <tr>\n",
              "      <th>Theory</th>\n",
              "      <td>351</td>\n",
              "    </tr>\n",
              "    <tr>\n",
              "      <th>Case_Based</th>\n",
              "      <td>298</td>\n",
              "    </tr>\n",
              "    <tr>\n",
              "      <th>Reinforcement_Learning</th>\n",
              "      <td>217</td>\n",
              "    </tr>\n",
              "    <tr>\n",
              "      <th>Rule_Learning</th>\n",
              "      <td>180</td>\n",
              "    </tr>\n",
              "  </tbody>\n",
              "</table>\n",
              "</div>\n",
              "      <button class=\"colab-df-convert\" onclick=\"convertToInteractive('df-4cc55740-51e9-4295-abee-7480f88ab1cf')\"\n",
              "              title=\"Convert this dataframe to an interactive table.\"\n",
              "              style=\"display:none;\">\n",
              "        \n",
              "  <svg xmlns=\"http://www.w3.org/2000/svg\" height=\"24px\"viewBox=\"0 0 24 24\"\n",
              "       width=\"24px\">\n",
              "    <path d=\"M0 0h24v24H0V0z\" fill=\"none\"/>\n",
              "    <path d=\"M18.56 5.44l.94 2.06.94-2.06 2.06-.94-2.06-.94-.94-2.06-.94 2.06-2.06.94zm-11 1L8.5 8.5l.94-2.06 2.06-.94-2.06-.94L8.5 2.5l-.94 2.06-2.06.94zm10 10l.94 2.06.94-2.06 2.06-.94-2.06-.94-.94-2.06-.94 2.06-2.06.94z\"/><path d=\"M17.41 7.96l-1.37-1.37c-.4-.4-.92-.59-1.43-.59-.52 0-1.04.2-1.43.59L10.3 9.45l-7.72 7.72c-.78.78-.78 2.05 0 2.83L4 21.41c.39.39.9.59 1.41.59.51 0 1.02-.2 1.41-.59l7.78-7.78 2.81-2.81c.8-.78.8-2.07 0-2.86zM5.41 20L4 18.59l7.72-7.72 1.47 1.35L5.41 20z\"/>\n",
              "  </svg>\n",
              "      </button>\n",
              "      \n",
              "  <style>\n",
              "    .colab-df-container {\n",
              "      display:flex;\n",
              "      flex-wrap:wrap;\n",
              "      gap: 12px;\n",
              "    }\n",
              "\n",
              "    .colab-df-convert {\n",
              "      background-color: #E8F0FE;\n",
              "      border: none;\n",
              "      border-radius: 50%;\n",
              "      cursor: pointer;\n",
              "      display: none;\n",
              "      fill: #1967D2;\n",
              "      height: 32px;\n",
              "      padding: 0 0 0 0;\n",
              "      width: 32px;\n",
              "    }\n",
              "\n",
              "    .colab-df-convert:hover {\n",
              "      background-color: #E2EBFA;\n",
              "      box-shadow: 0px 1px 2px rgba(60, 64, 67, 0.3), 0px 1px 3px 1px rgba(60, 64, 67, 0.15);\n",
              "      fill: #174EA6;\n",
              "    }\n",
              "\n",
              "    [theme=dark] .colab-df-convert {\n",
              "      background-color: #3B4455;\n",
              "      fill: #D2E3FC;\n",
              "    }\n",
              "\n",
              "    [theme=dark] .colab-df-convert:hover {\n",
              "      background-color: #434B5C;\n",
              "      box-shadow: 0px 1px 3px 1px rgba(0, 0, 0, 0.15);\n",
              "      filter: drop-shadow(0px 1px 2px rgba(0, 0, 0, 0.3));\n",
              "      fill: #FFFFFF;\n",
              "    }\n",
              "  </style>\n",
              "\n",
              "      <script>\n",
              "        const buttonEl =\n",
              "          document.querySelector('#df-4cc55740-51e9-4295-abee-7480f88ab1cf button.colab-df-convert');\n",
              "        buttonEl.style.display =\n",
              "          google.colab.kernel.accessAllowed ? 'block' : 'none';\n",
              "\n",
              "        async function convertToInteractive(key) {\n",
              "          const element = document.querySelector('#df-4cc55740-51e9-4295-abee-7480f88ab1cf');\n",
              "          const dataTable =\n",
              "            await google.colab.kernel.invokeFunction('convertToInteractive',\n",
              "                                                     [key], {});\n",
              "          if (!dataTable) return;\n",
              "\n",
              "          const docLinkHtml = 'Like what you see? Visit the ' +\n",
              "            '<a target=\"_blank\" href=https://colab.research.google.com/notebooks/data_table.ipynb>data table notebook</a>'\n",
              "            + ' to learn more about interactive tables.';\n",
              "          element.innerHTML = '';\n",
              "          dataTable['output_type'] = 'display_data';\n",
              "          await google.colab.output.renderOutput(dataTable, element);\n",
              "          const docLink = document.createElement('div');\n",
              "          docLink.innerHTML = docLinkHtml;\n",
              "          element.appendChild(docLink);\n",
              "        }\n",
              "      </script>\n",
              "    </div>\n",
              "  </div>\n",
              "  "
            ]
          },
          "metadata": {},
          "execution_count": 6
        }
      ],
      "source": [
        "node_subjects.value_counts().to_frame()"
      ]
    },
    {
      "cell_type": "markdown",
      "metadata": {
        "id": "J42qr9evkf5h"
      },
      "source": [
        "### Splitting the data"
      ]
    },
    {
      "cell_type": "code",
      "execution_count": null,
      "metadata": {
        "id": "WqihgCJDkf5i"
      },
      "outputs": [],
      "source": [
        "train_subjects, test_subjects = model_selection.train_test_split(\n",
        "    node_subjects, train_size=140, test_size=None, stratify=node_subjects\n",
        ")\n",
        "val_subjects, test_subjects = model_selection.train_test_split(\n",
        "    test_subjects, train_size=500, test_size=None, stratify=test_subjects\n",
        ")"
      ]
    },
    {
      "cell_type": "markdown",
      "metadata": {
        "id": "7NbqYEjykf5i"
      },
      "source": [
        "Using stratified sampleing\n",
        "\n",
        "\n"
      ]
    },
    {
      "cell_type": "code",
      "execution_count": null,
      "metadata": {
        "id": "BfVFPxYskf5i",
        "outputId": "5d1d0fcc-47f7-46e0-8ccf-d8494607a7a5",
        "colab": {
          "base_uri": "https://localhost:8080/",
          "height": 269
        }
      },
      "outputs": [
        {
          "output_type": "execute_result",
          "data": {
            "text/plain": [
              "                        subject\n",
              "Neural_Networks              42\n",
              "Probabilistic_Methods        22\n",
              "Genetic_Algorithms           22\n",
              "Theory                       18\n",
              "Case_Based                   16\n",
              "Reinforcement_Learning       11\n",
              "Rule_Learning                 9"
            ],
            "text/html": [
              "\n",
              "  <div id=\"df-c937b736-c461-4fe4-b165-68231371c6b4\">\n",
              "    <div class=\"colab-df-container\">\n",
              "      <div>\n",
              "<style scoped>\n",
              "    .dataframe tbody tr th:only-of-type {\n",
              "        vertical-align: middle;\n",
              "    }\n",
              "\n",
              "    .dataframe tbody tr th {\n",
              "        vertical-align: top;\n",
              "    }\n",
              "\n",
              "    .dataframe thead th {\n",
              "        text-align: right;\n",
              "    }\n",
              "</style>\n",
              "<table border=\"1\" class=\"dataframe\">\n",
              "  <thead>\n",
              "    <tr style=\"text-align: right;\">\n",
              "      <th></th>\n",
              "      <th>subject</th>\n",
              "    </tr>\n",
              "  </thead>\n",
              "  <tbody>\n",
              "    <tr>\n",
              "      <th>Neural_Networks</th>\n",
              "      <td>42</td>\n",
              "    </tr>\n",
              "    <tr>\n",
              "      <th>Probabilistic_Methods</th>\n",
              "      <td>22</td>\n",
              "    </tr>\n",
              "    <tr>\n",
              "      <th>Genetic_Algorithms</th>\n",
              "      <td>22</td>\n",
              "    </tr>\n",
              "    <tr>\n",
              "      <th>Theory</th>\n",
              "      <td>18</td>\n",
              "    </tr>\n",
              "    <tr>\n",
              "      <th>Case_Based</th>\n",
              "      <td>16</td>\n",
              "    </tr>\n",
              "    <tr>\n",
              "      <th>Reinforcement_Learning</th>\n",
              "      <td>11</td>\n",
              "    </tr>\n",
              "    <tr>\n",
              "      <th>Rule_Learning</th>\n",
              "      <td>9</td>\n",
              "    </tr>\n",
              "  </tbody>\n",
              "</table>\n",
              "</div>\n",
              "      <button class=\"colab-df-convert\" onclick=\"convertToInteractive('df-c937b736-c461-4fe4-b165-68231371c6b4')\"\n",
              "              title=\"Convert this dataframe to an interactive table.\"\n",
              "              style=\"display:none;\">\n",
              "        \n",
              "  <svg xmlns=\"http://www.w3.org/2000/svg\" height=\"24px\"viewBox=\"0 0 24 24\"\n",
              "       width=\"24px\">\n",
              "    <path d=\"M0 0h24v24H0V0z\" fill=\"none\"/>\n",
              "    <path d=\"M18.56 5.44l.94 2.06.94-2.06 2.06-.94-2.06-.94-.94-2.06-.94 2.06-2.06.94zm-11 1L8.5 8.5l.94-2.06 2.06-.94-2.06-.94L8.5 2.5l-.94 2.06-2.06.94zm10 10l.94 2.06.94-2.06 2.06-.94-2.06-.94-.94-2.06-.94 2.06-2.06.94z\"/><path d=\"M17.41 7.96l-1.37-1.37c-.4-.4-.92-.59-1.43-.59-.52 0-1.04.2-1.43.59L10.3 9.45l-7.72 7.72c-.78.78-.78 2.05 0 2.83L4 21.41c.39.39.9.59 1.41.59.51 0 1.02-.2 1.41-.59l7.78-7.78 2.81-2.81c.8-.78.8-2.07 0-2.86zM5.41 20L4 18.59l7.72-7.72 1.47 1.35L5.41 20z\"/>\n",
              "  </svg>\n",
              "      </button>\n",
              "      \n",
              "  <style>\n",
              "    .colab-df-container {\n",
              "      display:flex;\n",
              "      flex-wrap:wrap;\n",
              "      gap: 12px;\n",
              "    }\n",
              "\n",
              "    .colab-df-convert {\n",
              "      background-color: #E8F0FE;\n",
              "      border: none;\n",
              "      border-radius: 50%;\n",
              "      cursor: pointer;\n",
              "      display: none;\n",
              "      fill: #1967D2;\n",
              "      height: 32px;\n",
              "      padding: 0 0 0 0;\n",
              "      width: 32px;\n",
              "    }\n",
              "\n",
              "    .colab-df-convert:hover {\n",
              "      background-color: #E2EBFA;\n",
              "      box-shadow: 0px 1px 2px rgba(60, 64, 67, 0.3), 0px 1px 3px 1px rgba(60, 64, 67, 0.15);\n",
              "      fill: #174EA6;\n",
              "    }\n",
              "\n",
              "    [theme=dark] .colab-df-convert {\n",
              "      background-color: #3B4455;\n",
              "      fill: #D2E3FC;\n",
              "    }\n",
              "\n",
              "    [theme=dark] .colab-df-convert:hover {\n",
              "      background-color: #434B5C;\n",
              "      box-shadow: 0px 1px 3px 1px rgba(0, 0, 0, 0.15);\n",
              "      filter: drop-shadow(0px 1px 2px rgba(0, 0, 0, 0.3));\n",
              "      fill: #FFFFFF;\n",
              "    }\n",
              "  </style>\n",
              "\n",
              "      <script>\n",
              "        const buttonEl =\n",
              "          document.querySelector('#df-c937b736-c461-4fe4-b165-68231371c6b4 button.colab-df-convert');\n",
              "        buttonEl.style.display =\n",
              "          google.colab.kernel.accessAllowed ? 'block' : 'none';\n",
              "\n",
              "        async function convertToInteractive(key) {\n",
              "          const element = document.querySelector('#df-c937b736-c461-4fe4-b165-68231371c6b4');\n",
              "          const dataTable =\n",
              "            await google.colab.kernel.invokeFunction('convertToInteractive',\n",
              "                                                     [key], {});\n",
              "          if (!dataTable) return;\n",
              "\n",
              "          const docLinkHtml = 'Like what you see? Visit the ' +\n",
              "            '<a target=\"_blank\" href=https://colab.research.google.com/notebooks/data_table.ipynb>data table notebook</a>'\n",
              "            + ' to learn more about interactive tables.';\n",
              "          element.innerHTML = '';\n",
              "          dataTable['output_type'] = 'display_data';\n",
              "          await google.colab.output.renderOutput(dataTable, element);\n",
              "          const docLink = document.createElement('div');\n",
              "          docLink.innerHTML = docLinkHtml;\n",
              "          element.appendChild(docLink);\n",
              "        }\n",
              "      </script>\n",
              "    </div>\n",
              "  </div>\n",
              "  "
            ]
          },
          "metadata": {},
          "execution_count": 8
        }
      ],
      "source": [
        "train_subjects.value_counts().to_frame()"
      ]
    },
    {
      "cell_type": "markdown",
      "metadata": {
        "id": "T5haQtcIkf5i"
      },
      "source": [
        "Transforming to numeric arrays"
      ]
    },
    {
      "cell_type": "code",
      "execution_count": null,
      "metadata": {
        "id": "yQcZo7jrkf5i"
      },
      "outputs": [],
      "source": [
        "target_encoding = preprocessing.LabelBinarizer()\n",
        "\n",
        "train_targets = target_encoding.fit_transform(train_subjects)\n",
        "val_targets = target_encoding.transform(val_subjects)\n",
        "test_targets = target_encoding.transform(test_subjects)"
      ]
    },
    {
      "cell_type": "markdown",
      "source": [
        "creating the GNN layers"
      ],
      "metadata": {
        "id": "TxnoGWIwqfoI"
      }
    },
    {
      "cell_type": "code",
      "execution_count": null,
      "metadata": {
        "id": "NVYfoc5Hkf5j",
        "outputId": "dd42f2ad-1714-4159-ee9a-59c8d78b1745",
        "colab": {
          "base_uri": "https://localhost:8080/"
        }
      },
      "outputs": [
        {
          "output_type": "stream",
          "name": "stdout",
          "text": [
            "Using GCN (local pooling) filters...\n"
          ]
        }
      ],
      "source": [
        "generator = FullBatchNodeGenerator(G, method=\"gcn\")"
      ]
    },
    {
      "cell_type": "code",
      "execution_count": null,
      "metadata": {
        "id": "AYeGggJAkf5j"
      },
      "outputs": [],
      "source": [
        "train_gen = generator.flow(train_subjects.index, train_targets)"
      ]
    },
    {
      "cell_type": "code",
      "execution_count": null,
      "metadata": {
        "id": "0BWQZU6Xkf5j"
      },
      "outputs": [],
      "source": [
        "gcn = GCN(\n",
        "    layer_sizes=[16, 16], activations=[\"relu\", \"relu\"], generator=generator, dropout=0.5\n",
        ")"
      ]
    },
    {
      "cell_type": "code",
      "execution_count": null,
      "metadata": {
        "id": "oAZVP2UZkf5j",
        "outputId": "77bad9c0-e67f-4a92-92ca-07edf49ef341",
        "colab": {
          "base_uri": "https://localhost:8080/"
        }
      },
      "outputs": [
        {
          "output_type": "execute_result",
          "data": {
            "text/plain": [
              "<KerasTensor: shape=(1, None, 16) dtype=float32 (created by layer 'gather_indices')>"
            ]
          },
          "metadata": {},
          "execution_count": 13
        }
      ],
      "source": [
        "x_inp, x_out = gcn.in_out_tensors()\n",
        "\n",
        "x_out"
      ]
    },
    {
      "cell_type": "code",
      "execution_count": null,
      "metadata": {
        "id": "jIVqXAu5kf5j"
      },
      "outputs": [],
      "source": [
        "predictions = layers.Dense(units=train_targets.shape[1], activation=\"softmax\")(x_out)"
      ]
    },
    {
      "cell_type": "markdown",
      "metadata": {
        "id": "8n9mFQw6kf5j"
      },
      "source": [
        "Training the model"
      ]
    },
    {
      "cell_type": "code",
      "execution_count": null,
      "metadata": {
        "id": "LjshJYCFkf5k",
        "colab": {
          "base_uri": "https://localhost:8080/"
        },
        "outputId": "ad33115e-e9a9-4bee-8aec-af4cf37005be"
      },
      "outputs": [
        {
          "output_type": "stream",
          "name": "stderr",
          "text": [
            "/usr/local/lib/python3.8/dist-packages/keras/optimizers/optimizer_v2/adam.py:110: UserWarning: The `lr` argument is deprecated, use `learning_rate` instead.\n",
            "  super(Adam, self).__init__(name, **kwargs)\n"
          ]
        }
      ],
      "source": [
        "model = Model(inputs=x_inp, outputs=predictions)\n",
        "model.compile(\n",
        "    optimizer=optimizers.Adam(lr=0.01),\n",
        "    loss=losses.categorical_crossentropy,\n",
        "    metrics=[\"acc\"],\n",
        ")"
      ]
    },
    {
      "cell_type": "code",
      "execution_count": null,
      "metadata": {
        "id": "4cLyUhMTkf5k"
      },
      "outputs": [],
      "source": [
        "val_gen = generator.flow(val_subjects.index, val_targets)"
      ]
    },
    {
      "cell_type": "markdown",
      "metadata": {
        "id": "xYjmBOzNkf5k"
      },
      "source": [
        "Using early stopping from tensorlow library"
      ]
    },
    {
      "cell_type": "code",
      "execution_count": null,
      "metadata": {
        "id": "1Y3dZdxVkf5k"
      },
      "outputs": [],
      "source": [
        "from tensorflow.keras.callbacks import EarlyStopping\n",
        "\n",
        "es_callback = EarlyStopping(monitor=\"val_acc\", patience=50, restore_best_weights=True)"
      ]
    },
    {
      "cell_type": "code",
      "execution_count": null,
      "metadata": {
        "id": "MGMLQ9CFkf5k",
        "outputId": "0bbc15b6-bdb9-4f64-baba-14477864858d",
        "colab": {
          "base_uri": "https://localhost:8080/"
        }
      },
      "outputs": [
        {
          "output_type": "stream",
          "name": "stdout",
          "text": [
            "Epoch 1/200\n",
            "1/1 - 2s - loss: 1.9415 - acc: 0.1714 - val_loss: 1.8835 - val_acc: 0.3280 - 2s/epoch - 2s/step\n",
            "Epoch 2/200\n",
            "1/1 - 0s - loss: 1.8739 - acc: 0.3143 - val_loss: 1.8158 - val_acc: 0.3200 - 169ms/epoch - 169ms/step\n",
            "Epoch 3/200\n",
            "1/1 - 0s - loss: 1.7948 - acc: 0.3143 - val_loss: 1.7395 - val_acc: 0.3160 - 145ms/epoch - 145ms/step\n",
            "Epoch 4/200\n",
            "1/1 - 0s - loss: 1.7059 - acc: 0.3286 - val_loss: 1.6596 - val_acc: 0.3100 - 165ms/epoch - 165ms/step\n",
            "Epoch 5/200\n",
            "1/1 - 0s - loss: 1.6083 - acc: 0.3286 - val_loss: 1.5820 - val_acc: 0.3400 - 140ms/epoch - 140ms/step\n",
            "Epoch 6/200\n",
            "1/1 - 0s - loss: 1.5234 - acc: 0.3571 - val_loss: 1.4995 - val_acc: 0.4180 - 152ms/epoch - 152ms/step\n",
            "Epoch 7/200\n",
            "1/1 - 0s - loss: 1.4163 - acc: 0.4000 - val_loss: 1.4157 - val_acc: 0.5040 - 155ms/epoch - 155ms/step\n",
            "Epoch 8/200\n",
            "1/1 - 0s - loss: 1.3188 - acc: 0.5000 - val_loss: 1.3456 - val_acc: 0.6060 - 150ms/epoch - 150ms/step\n",
            "Epoch 9/200\n",
            "1/1 - 0s - loss: 1.2247 - acc: 0.6071 - val_loss: 1.2874 - val_acc: 0.6320 - 141ms/epoch - 141ms/step\n",
            "Epoch 10/200\n",
            "1/1 - 0s - loss: 1.1062 - acc: 0.6929 - val_loss: 1.2285 - val_acc: 0.6420 - 142ms/epoch - 142ms/step\n",
            "Epoch 11/200\n",
            "1/1 - 0s - loss: 1.0414 - acc: 0.6786 - val_loss: 1.1649 - val_acc: 0.6600 - 144ms/epoch - 144ms/step\n",
            "Epoch 12/200\n",
            "1/1 - 0s - loss: 0.9463 - acc: 0.7071 - val_loss: 1.1012 - val_acc: 0.6780 - 150ms/epoch - 150ms/step\n",
            "Epoch 13/200\n",
            "1/1 - 0s - loss: 0.8490 - acc: 0.7857 - val_loss: 1.0428 - val_acc: 0.6820 - 145ms/epoch - 145ms/step\n",
            "Epoch 14/200\n",
            "1/1 - 0s - loss: 0.8242 - acc: 0.7571 - val_loss: 0.9926 - val_acc: 0.7060 - 149ms/epoch - 149ms/step\n",
            "Epoch 15/200\n",
            "1/1 - 0s - loss: 0.7635 - acc: 0.7714 - val_loss: 0.9492 - val_acc: 0.7140 - 141ms/epoch - 141ms/step\n",
            "Epoch 16/200\n",
            "1/1 - 0s - loss: 0.6557 - acc: 0.7857 - val_loss: 0.9109 - val_acc: 0.7180 - 156ms/epoch - 156ms/step\n",
            "Epoch 17/200\n",
            "1/1 - 0s - loss: 0.6322 - acc: 0.8071 - val_loss: 0.8796 - val_acc: 0.7340 - 149ms/epoch - 149ms/step\n",
            "Epoch 18/200\n",
            "1/1 - 0s - loss: 0.5636 - acc: 0.8000 - val_loss: 0.8560 - val_acc: 0.7380 - 140ms/epoch - 140ms/step\n",
            "Epoch 19/200\n",
            "1/1 - 0s - loss: 0.5258 - acc: 0.8286 - val_loss: 0.8403 - val_acc: 0.7380 - 138ms/epoch - 138ms/step\n",
            "Epoch 20/200\n",
            "1/1 - 0s - loss: 0.5258 - acc: 0.8214 - val_loss: 0.8276 - val_acc: 0.7340 - 177ms/epoch - 177ms/step\n",
            "Epoch 21/200\n",
            "1/1 - 0s - loss: 0.4602 - acc: 0.8714 - val_loss: 0.8190 - val_acc: 0.7280 - 159ms/epoch - 159ms/step\n",
            "Epoch 22/200\n",
            "1/1 - 0s - loss: 0.3876 - acc: 0.8857 - val_loss: 0.8158 - val_acc: 0.7240 - 143ms/epoch - 143ms/step\n",
            "Epoch 23/200\n",
            "1/1 - 0s - loss: 0.3951 - acc: 0.8429 - val_loss: 0.8149 - val_acc: 0.7220 - 149ms/epoch - 149ms/step\n",
            "Epoch 24/200\n",
            "1/1 - 0s - loss: 0.3602 - acc: 0.8714 - val_loss: 0.8156 - val_acc: 0.7220 - 140ms/epoch - 140ms/step\n",
            "Epoch 25/200\n",
            "1/1 - 0s - loss: 0.3134 - acc: 0.8857 - val_loss: 0.8070 - val_acc: 0.7300 - 141ms/epoch - 141ms/step\n",
            "Epoch 26/200\n",
            "1/1 - 0s - loss: 0.3799 - acc: 0.8857 - val_loss: 0.7984 - val_acc: 0.7420 - 158ms/epoch - 158ms/step\n",
            "Epoch 27/200\n",
            "1/1 - 0s - loss: 0.3111 - acc: 0.8857 - val_loss: 0.7892 - val_acc: 0.7580 - 143ms/epoch - 143ms/step\n",
            "Epoch 28/200\n",
            "1/1 - 0s - loss: 0.2809 - acc: 0.9000 - val_loss: 0.7829 - val_acc: 0.7780 - 142ms/epoch - 142ms/step\n",
            "Epoch 29/200\n",
            "1/1 - 0s - loss: 0.3014 - acc: 0.9071 - val_loss: 0.7818 - val_acc: 0.7960 - 137ms/epoch - 137ms/step\n",
            "Epoch 30/200\n",
            "1/1 - 0s - loss: 0.2113 - acc: 0.9357 - val_loss: 0.7835 - val_acc: 0.8040 - 136ms/epoch - 136ms/step\n",
            "Epoch 31/200\n",
            "1/1 - 0s - loss: 0.2134 - acc: 0.9643 - val_loss: 0.7877 - val_acc: 0.8100 - 141ms/epoch - 141ms/step\n",
            "Epoch 32/200\n",
            "1/1 - 0s - loss: 0.2029 - acc: 0.9429 - val_loss: 0.7940 - val_acc: 0.8080 - 143ms/epoch - 143ms/step\n",
            "Epoch 33/200\n",
            "1/1 - 0s - loss: 0.2109 - acc: 0.9500 - val_loss: 0.8043 - val_acc: 0.8020 - 158ms/epoch - 158ms/step\n",
            "Epoch 34/200\n",
            "1/1 - 0s - loss: 0.1880 - acc: 0.9714 - val_loss: 0.8120 - val_acc: 0.7980 - 151ms/epoch - 151ms/step\n",
            "Epoch 35/200\n",
            "1/1 - 0s - loss: 0.1863 - acc: 0.9500 - val_loss: 0.8138 - val_acc: 0.7940 - 141ms/epoch - 141ms/step\n",
            "Epoch 36/200\n",
            "1/1 - 0s - loss: 0.1824 - acc: 0.9571 - val_loss: 0.8165 - val_acc: 0.7900 - 157ms/epoch - 157ms/step\n",
            "Epoch 37/200\n",
            "1/1 - 0s - loss: 0.1137 - acc: 1.0000 - val_loss: 0.8183 - val_acc: 0.7900 - 141ms/epoch - 141ms/step\n",
            "Epoch 38/200\n",
            "1/1 - 0s - loss: 0.1894 - acc: 0.9286 - val_loss: 0.8219 - val_acc: 0.7940 - 153ms/epoch - 153ms/step\n",
            "Epoch 39/200\n",
            "1/1 - 0s - loss: 0.1542 - acc: 0.9714 - val_loss: 0.8262 - val_acc: 0.8000 - 147ms/epoch - 147ms/step\n",
            "Epoch 40/200\n",
            "1/1 - 0s - loss: 0.1757 - acc: 0.9357 - val_loss: 0.8312 - val_acc: 0.7920 - 149ms/epoch - 149ms/step\n",
            "Epoch 41/200\n",
            "1/1 - 0s - loss: 0.1410 - acc: 0.9786 - val_loss: 0.8367 - val_acc: 0.8000 - 142ms/epoch - 142ms/step\n",
            "Epoch 42/200\n",
            "1/1 - 0s - loss: 0.0857 - acc: 0.9929 - val_loss: 0.8426 - val_acc: 0.8000 - 146ms/epoch - 146ms/step\n",
            "Epoch 43/200\n",
            "1/1 - 0s - loss: 0.1379 - acc: 0.9500 - val_loss: 0.8525 - val_acc: 0.7960 - 153ms/epoch - 153ms/step\n",
            "Epoch 44/200\n",
            "1/1 - 0s - loss: 0.1513 - acc: 0.9643 - val_loss: 0.8580 - val_acc: 0.8000 - 171ms/epoch - 171ms/step\n",
            "Epoch 45/200\n",
            "1/1 - 0s - loss: 0.1366 - acc: 0.9643 - val_loss: 0.8641 - val_acc: 0.8000 - 148ms/epoch - 148ms/step\n",
            "Epoch 46/200\n",
            "1/1 - 0s - loss: 0.0760 - acc: 1.0000 - val_loss: 0.8680 - val_acc: 0.7980 - 149ms/epoch - 149ms/step\n",
            "Epoch 47/200\n",
            "1/1 - 0s - loss: 0.1142 - acc: 0.9714 - val_loss: 0.8720 - val_acc: 0.8000 - 145ms/epoch - 145ms/step\n",
            "Epoch 48/200\n",
            "1/1 - 0s - loss: 0.0982 - acc: 0.9857 - val_loss: 0.8771 - val_acc: 0.7980 - 146ms/epoch - 146ms/step\n",
            "Epoch 49/200\n",
            "1/1 - 0s - loss: 0.0544 - acc: 1.0000 - val_loss: 0.8806 - val_acc: 0.7980 - 136ms/epoch - 136ms/step\n",
            "Epoch 50/200\n",
            "1/1 - 0s - loss: 0.0682 - acc: 0.9857 - val_loss: 0.8844 - val_acc: 0.7980 - 144ms/epoch - 144ms/step\n",
            "Epoch 51/200\n",
            "1/1 - 0s - loss: 0.0694 - acc: 0.9786 - val_loss: 0.8911 - val_acc: 0.8000 - 144ms/epoch - 144ms/step\n",
            "Epoch 52/200\n",
            "1/1 - 0s - loss: 0.0668 - acc: 0.9857 - val_loss: 0.8975 - val_acc: 0.7980 - 158ms/epoch - 158ms/step\n",
            "Epoch 53/200\n",
            "1/1 - 0s - loss: 0.0905 - acc: 0.9571 - val_loss: 0.9013 - val_acc: 0.7960 - 143ms/epoch - 143ms/step\n",
            "Epoch 54/200\n",
            "1/1 - 0s - loss: 0.0766 - acc: 0.9786 - val_loss: 0.9045 - val_acc: 0.7920 - 141ms/epoch - 141ms/step\n",
            "Epoch 55/200\n",
            "1/1 - 0s - loss: 0.0679 - acc: 0.9714 - val_loss: 0.9058 - val_acc: 0.7940 - 147ms/epoch - 147ms/step\n",
            "Epoch 56/200\n",
            "1/1 - 0s - loss: 0.0617 - acc: 0.9857 - val_loss: 0.9069 - val_acc: 0.7880 - 138ms/epoch - 138ms/step\n",
            "Epoch 57/200\n",
            "1/1 - 0s - loss: 0.0401 - acc: 1.0000 - val_loss: 0.9091 - val_acc: 0.7900 - 146ms/epoch - 146ms/step\n",
            "Epoch 58/200\n",
            "1/1 - 0s - loss: 0.0627 - acc: 0.9857 - val_loss: 0.9113 - val_acc: 0.7900 - 144ms/epoch - 144ms/step\n",
            "Epoch 59/200\n",
            "1/1 - 0s - loss: 0.0433 - acc: 0.9929 - val_loss: 0.9133 - val_acc: 0.7880 - 136ms/epoch - 136ms/step\n",
            "Epoch 60/200\n",
            "1/1 - 0s - loss: 0.0593 - acc: 0.9857 - val_loss: 0.9163 - val_acc: 0.7920 - 141ms/epoch - 141ms/step\n",
            "Epoch 61/200\n",
            "1/1 - 0s - loss: 0.0696 - acc: 0.9786 - val_loss: 0.9216 - val_acc: 0.7900 - 143ms/epoch - 143ms/step\n",
            "Epoch 62/200\n",
            "1/1 - 0s - loss: 0.0216 - acc: 0.9929 - val_loss: 0.9304 - val_acc: 0.7900 - 144ms/epoch - 144ms/step\n",
            "Epoch 63/200\n",
            "1/1 - 0s - loss: 0.0758 - acc: 0.9786 - val_loss: 0.9437 - val_acc: 0.7940 - 143ms/epoch - 143ms/step\n",
            "Epoch 64/200\n",
            "1/1 - 0s - loss: 0.0552 - acc: 0.9857 - val_loss: 0.9583 - val_acc: 0.7920 - 140ms/epoch - 140ms/step\n",
            "Epoch 65/200\n",
            "1/1 - 0s - loss: 0.0399 - acc: 0.9929 - val_loss: 0.9683 - val_acc: 0.7900 - 141ms/epoch - 141ms/step\n",
            "Epoch 66/200\n",
            "1/1 - 0s - loss: 0.0471 - acc: 0.9857 - val_loss: 0.9765 - val_acc: 0.7900 - 144ms/epoch - 144ms/step\n",
            "Epoch 67/200\n",
            "1/1 - 0s - loss: 0.0338 - acc: 0.9929 - val_loss: 0.9798 - val_acc: 0.7900 - 160ms/epoch - 160ms/step\n",
            "Epoch 68/200\n",
            "1/1 - 0s - loss: 0.0582 - acc: 0.9929 - val_loss: 0.9774 - val_acc: 0.7900 - 143ms/epoch - 143ms/step\n",
            "Epoch 69/200\n",
            "1/1 - 0s - loss: 0.0378 - acc: 0.9929 - val_loss: 0.9746 - val_acc: 0.7880 - 140ms/epoch - 140ms/step\n",
            "Epoch 70/200\n",
            "1/1 - 0s - loss: 0.0470 - acc: 0.9857 - val_loss: 0.9728 - val_acc: 0.7900 - 135ms/epoch - 135ms/step\n",
            "Epoch 71/200\n",
            "1/1 - 0s - loss: 0.0277 - acc: 1.0000 - val_loss: 0.9729 - val_acc: 0.7880 - 141ms/epoch - 141ms/step\n",
            "Epoch 72/200\n",
            "1/1 - 0s - loss: 0.0242 - acc: 1.0000 - val_loss: 0.9737 - val_acc: 0.7900 - 148ms/epoch - 148ms/step\n",
            "Epoch 73/200\n",
            "1/1 - 0s - loss: 0.0326 - acc: 0.9929 - val_loss: 0.9769 - val_acc: 0.7900 - 153ms/epoch - 153ms/step\n",
            "Epoch 74/200\n",
            "1/1 - 0s - loss: 0.0401 - acc: 0.9857 - val_loss: 0.9820 - val_acc: 0.7880 - 147ms/epoch - 147ms/step\n",
            "Epoch 75/200\n",
            "1/1 - 0s - loss: 0.0366 - acc: 0.9929 - val_loss: 0.9893 - val_acc: 0.7860 - 143ms/epoch - 143ms/step\n",
            "Epoch 76/200\n",
            "1/1 - 0s - loss: 0.0169 - acc: 1.0000 - val_loss: 0.9976 - val_acc: 0.7840 - 174ms/epoch - 174ms/step\n",
            "Epoch 77/200\n",
            "1/1 - 0s - loss: 0.0518 - acc: 0.9786 - val_loss: 1.0034 - val_acc: 0.7840 - 177ms/epoch - 177ms/step\n",
            "Epoch 78/200\n",
            "1/1 - 0s - loss: 0.0214 - acc: 0.9929 - val_loss: 1.0097 - val_acc: 0.7840 - 135ms/epoch - 135ms/step\n",
            "Epoch 79/200\n",
            "1/1 - 0s - loss: 0.0320 - acc: 0.9929 - val_loss: 1.0168 - val_acc: 0.7860 - 224ms/epoch - 224ms/step\n",
            "Epoch 80/200\n",
            "1/1 - 0s - loss: 0.0429 - acc: 0.9857 - val_loss: 1.0225 - val_acc: 0.7860 - 248ms/epoch - 248ms/step\n",
            "Epoch 81/200\n",
            "1/1 - 0s - loss: 0.0727 - acc: 0.9714 - val_loss: 1.0274 - val_acc: 0.7840 - 143ms/epoch - 143ms/step\n"
          ]
        }
      ],
      "source": [
        "history = model.fit(\n",
        "    train_gen,\n",
        "    epochs=200,\n",
        "    validation_data=val_gen,\n",
        "    verbose=2,\n",
        "    shuffle=False,  # this should be False, since shuffling data means shuffling the whole graph\n",
        "    callbacks=[es_callback],\n",
        ")"
      ]
    },
    {
      "cell_type": "code",
      "execution_count": null,
      "metadata": {
        "id": "xAPvTa2dkf5k",
        "outputId": "fa0d98da-90b9-4d0e-eeac-9dffdc4c1cd7",
        "colab": {
          "base_uri": "https://localhost:8080/",
          "height": 585
        }
      },
      "outputs": [
        {
          "output_type": "display_data",
          "data": {
            "text/plain": [
              "<Figure size 504x576 with 2 Axes>"
            ],
            "image/png": "[encoded data removed]"
          },
          "metadata": {
            "needs_background": "light"
          }
        }
      ],
      "source": [
        "sg.utils.plot_history(history)"
      ]
    },
    {
      "cell_type": "code",
      "execution_count": null,
      "metadata": {
        "id": "h5Mrf4gMkf5k"
      },
      "outputs": [],
      "source": [
        "test_gen = generator.flow(test_subjects.index, test_targets)"
      ]
    },
    {
      "cell_type": "code",
      "execution_count": null,
      "metadata": {
        "id": "krK5sUFfkf5k",
        "outputId": "2d1e042f-4f4c-4dd0-f606-d64aa1aaa981",
        "colab": {
          "base_uri": "https://localhost:8080/"
        }
      },
      "outputs": [
        {
          "output_type": "stream",
          "name": "stdout",
          "text": [
            "1/1 [==============================] - 0s 137ms/step - loss: 0.7585 - acc: 0.7945\n",
            "\n",
            "Test Set Metrics:\n",
            "\tloss: 0.7585\n",
            "\tacc: 0.7945\n"
          ]
        }
      ],
      "source": [
        "test_metrics = model.evaluate(test_gen)\n",
        "print(\"\\nTest Set Metrics:\")\n",
        "for name, val in zip(model.metrics_names, test_metrics):\n",
        "    print(\"\\t{}: {:0.4f}\".format(name, val))"
      ]
    },
    {
      "cell_type": "markdown",
      "metadata": {
        "id": "BDXAw6v4kf5k"
      },
      "source": [
        "Making inferences"
      ]
    },
    {
      "cell_type": "code",
      "execution_count": null,
      "metadata": {
        "id": "RsctMFJ3kf5l",
        "colab": {
          "base_uri": "https://localhost:8080/"
        },
        "outputId": "2141fb26-0fce-4ae5-ce9f-e00c94c4a9bf"
      },
      "outputs": [
        {
          "output_type": "stream",
          "name": "stdout",
          "text": [
            "1/1 [==============================] - 0s 353ms/step\n"
          ]
        }
      ],
      "source": [
        "all_nodes = node_subjects.index\n",
        "all_gen = generator.flow(all_nodes)\n",
        "all_predictions = model.predict(all_gen)"
      ]
    },
    {
      "cell_type": "code",
      "execution_count": null,
      "metadata": {
        "id": "_kU8Zcnskf5l"
      },
      "outputs": [],
      "source": [
        "node_predictions = target_encoding.inverse_transform(all_predictions.squeeze())"
      ]
    },
    {
      "cell_type": "markdown",
      "metadata": {
        "id": "AIK7KHk1kf5l"
      },
      "source": [
        "Let's have a look at a few predictions after training the model:"
      ]
    },
    {
      "cell_type": "code",
      "execution_count": null,
      "metadata": {
        "id": "QgacftuYkf5l",
        "outputId": "316a7330-a6f5-437a-aae7-438bc5ddec55",
        "colab": {
          "base_uri": "https://localhost:8080/",
          "height": 677
        }
      },
      "outputs": [
        {
          "output_type": "execute_result",
          "data": {
            "text/plain": [
              "                      Predicted                    True\n",
              "31336           Neural_Networks         Neural_Networks\n",
              "1061127           Rule_Learning           Rule_Learning\n",
              "1106406  Reinforcement_Learning  Reinforcement_Learning\n",
              "13195    Reinforcement_Learning  Reinforcement_Learning\n",
              "37879     Probabilistic_Methods   Probabilistic_Methods\n",
              "1126012      Genetic_Algorithms   Probabilistic_Methods\n",
              "1107140                  Theory                  Theory\n",
              "1102850         Neural_Networks         Neural_Networks\n",
              "31349           Neural_Networks         Neural_Networks\n",
              "1106418                  Theory                  Theory\n",
              "1123188         Neural_Networks         Neural_Networks\n",
              "1128990      Genetic_Algorithms      Genetic_Algorithms\n",
              "109323    Probabilistic_Methods   Probabilistic_Methods\n",
              "217139               Case_Based              Case_Based\n",
              "31353           Neural_Networks         Neural_Networks\n",
              "32083           Neural_Networks         Neural_Networks\n",
              "1126029  Reinforcement_Learning  Reinforcement_Learning\n",
              "1118017         Neural_Networks         Neural_Networks\n",
              "49482           Neural_Networks         Neural_Networks\n",
              "753265                   Theory         Neural_Networks"
            ],
            "text/html": [
              "\n",
              "  <div id=\"df-95397ee9-c5a8-4d57-b6dd-4a1388c924eb\">\n",
              "    <div class=\"colab-df-container\">\n",
              "      <div>\n",
              "<style scoped>\n",
              "    .dataframe tbody tr th:only-of-type {\n",
              "        vertical-align: middle;\n",
              "    }\n",
              "\n",
              "    .dataframe tbody tr th {\n",
              "        vertical-align: top;\n",
              "    }\n",
              "\n",
              "    .dataframe thead th {\n",
              "        text-align: right;\n",
              "    }\n",
              "</style>\n",
              "<table border=\"1\" class=\"dataframe\">\n",
              "  <thead>\n",
              "    <tr style=\"text-align: right;\">\n",
              "      <th></th>\n",
              "      <th>Predicted</th>\n",
              "      <th>True</th>\n",
              "    </tr>\n",
              "  </thead>\n",
              "  <tbody>\n",
              "    <tr>\n",
              "      <th>31336</th>\n",
              "      <td>Neural_Networks</td>\n",
              "      <td>Neural_Networks</td>\n",
              "    </tr>\n",
              "    <tr>\n",
              "      <th>1061127</th>\n",
              "      <td>Rule_Learning</td>\n",
              "      <td>Rule_Learning</td>\n",
              "    </tr>\n",
              "    <tr>\n",
              "      <th>1106406</th>\n",
              "      <td>Reinforcement_Learning</td>\n",
              "      <td>Reinforcement_Learning</td>\n",
              "    </tr>\n",
              "    <tr>\n",
              "      <th>13195</th>\n",
              "      <td>Reinforcement_Learning</td>\n",
              "      <td>Reinforcement_Learning</td>\n",
              "    </tr>\n",
              "    <tr>\n",
              "      <th>37879</th>\n",
              "      <td>Probabilistic_Methods</td>\n",
              "      <td>Probabilistic_Methods</td>\n",
              "    </tr>\n",
              "    <tr>\n",
              "      <th>1126012</th>\n",
              "      <td>Genetic_Algorithms</td>\n",
              "      <td>Probabilistic_Methods</td>\n",
              "    </tr>\n",
              "    <tr>\n",
              "      <th>1107140</th>\n",
              "      <td>Theory</td>\n",
              "      <td>Theory</td>\n",
              "    </tr>\n",
              "    <tr>\n",
              "      <th>1102850</th>\n",
              "      <td>Neural_Networks</td>\n",
              "      <td>Neural_Networks</td>\n",
              "    </tr>\n",
              "    <tr>\n",
              "      <th>31349</th>\n",
              "      <td>Neural_Networks</td>\n",
              "      <td>Neural_Networks</td>\n",
              "    </tr>\n",
              "    <tr>\n",
              "      <th>1106418</th>\n",
              "      <td>Theory</td>\n",
              "      <td>Theory</td>\n",
              "    </tr>\n",
              "    <tr>\n",
              "      <th>1123188</th>\n",
              "      <td>Neural_Networks</td>\n",
              "      <td>Neural_Networks</td>\n",
              "    </tr>\n",
              "    <tr>\n",
              "      <th>1128990</th>\n",
              "      <td>Genetic_Algorithms</td>\n",
              "      <td>Genetic_Algorithms</td>\n",
              "    </tr>\n",
              "    <tr>\n",
              "      <th>109323</th>\n",
              "      <td>Probabilistic_Methods</td>\n",
              "      <td>Probabilistic_Methods</td>\n",
              "    </tr>\n",
              "    <tr>\n",
              "      <th>217139</th>\n",
              "      <td>Case_Based</td>\n",
              "      <td>Case_Based</td>\n",
              "    </tr>\n",
              "    <tr>\n",
              "      <th>31353</th>\n",
              "      <td>Neural_Networks</td>\n",
              "      <td>Neural_Networks</td>\n",
              "    </tr>\n",
              "    <tr>\n",
              "      <th>32083</th>\n",
              "      <td>Neural_Networks</td>\n",
              "      <td>Neural_Networks</td>\n",
              "    </tr>\n",
              "    <tr>\n",
              "      <th>1126029</th>\n",
              "      <td>Reinforcement_Learning</td>\n",
              "      <td>Reinforcement_Learning</td>\n",
              "    </tr>\n",
              "    <tr>\n",
              "      <th>1118017</th>\n",
              "      <td>Neural_Networks</td>\n",
              "      <td>Neural_Networks</td>\n",
              "    </tr>\n",
              "    <tr>\n",
              "      <th>49482</th>\n",
              "      <td>Neural_Networks</td>\n",
              "      <td>Neural_Networks</td>\n",
              "    </tr>\n",
              "    <tr>\n",
              "      <th>753265</th>\n",
              "      <td>Theory</td>\n",
              "      <td>Neural_Networks</td>\n",
              "    </tr>\n",
              "  </tbody>\n",
              "</table>\n",
              "</div>\n",
              "      <button class=\"colab-df-convert\" onclick=\"convertToInteractive('df-95397ee9-c5a8-4d57-b6dd-4a1388c924eb')\"\n",
              "              title=\"Convert this dataframe to an interactive table.\"\n",
              "              style=\"display:none;\">\n",
              "        \n",
              "  <svg xmlns=\"http://www.w3.org/2000/svg\" height=\"24px\"viewBox=\"0 0 24 24\"\n",
              "       width=\"24px\">\n",
              "    <path d=\"M0 0h24v24H0V0z\" fill=\"none\"/>\n",
              "    <path d=\"M18.56 5.44l.94 2.06.94-2.06 2.06-.94-2.06-.94-.94-2.06-.94 2.06-2.06.94zm-11 1L8.5 8.5l.94-2.06 2.06-.94-2.06-.94L8.5 2.5l-.94 2.06-2.06.94zm10 10l.94 2.06.94-2.06 2.06-.94-2.06-.94-.94-2.06-.94 2.06-2.06.94z\"/><path d=\"M17.41 7.96l-1.37-1.37c-.4-.4-.92-.59-1.43-.59-.52 0-1.04.2-1.43.59L10.3 9.45l-7.72 7.72c-.78.78-.78 2.05 0 2.83L4 21.41c.39.39.9.59 1.41.59.51 0 1.02-.2 1.41-.59l7.78-7.78 2.81-2.81c.8-.78.8-2.07 0-2.86zM5.41 20L4 18.59l7.72-7.72 1.47 1.35L5.41 20z\"/>\n",
              "  </svg>\n",
              "      </button>\n",
              "      \n",
              "  <style>\n",
              "    .colab-df-container {\n",
              "      display:flex;\n",
              "      flex-wrap:wrap;\n",
              "      gap: 12px;\n",
              "    }\n",
              "\n",
              "    .colab-df-convert {\n",
              "      background-color: #E8F0FE;\n",
              "      border: none;\n",
              "      border-radius: 50%;\n",
              "      cursor: pointer;\n",
              "      display: none;\n",
              "      fill: #1967D2;\n",
              "      height: 32px;\n",
              "      padding: 0 0 0 0;\n",
              "      width: 32px;\n",
              "    }\n",
              "\n",
              "    .colab-df-convert:hover {\n",
              "      background-color: #E2EBFA;\n",
              "      box-shadow: 0px 1px 2px rgba(60, 64, 67, 0.3), 0px 1px 3px 1px rgba(60, 64, 67, 0.15);\n",
              "      fill: #174EA6;\n",
              "    }\n",
              "\n",
              "    [theme=dark] .colab-df-convert {\n",
              "      background-color: #3B4455;\n",
              "      fill: #D2E3FC;\n",
              "    }\n",
              "\n",
              "    [theme=dark] .colab-df-convert:hover {\n",
              "      background-color: #434B5C;\n",
              "      box-shadow: 0px 1px 3px 1px rgba(0, 0, 0, 0.15);\n",
              "      filter: drop-shadow(0px 1px 2px rgba(0, 0, 0, 0.3));\n",
              "      fill: #FFFFFF;\n",
              "    }\n",
              "  </style>\n",
              "\n",
              "      <script>\n",
              "        const buttonEl =\n",
              "          document.querySelector('#df-95397ee9-c5a8-4d57-b6dd-4a1388c924eb button.colab-df-convert');\n",
              "        buttonEl.style.display =\n",
              "          google.colab.kernel.accessAllowed ? 'block' : 'none';\n",
              "\n",
              "        async function convertToInteractive(key) {\n",
              "          const element = document.querySelector('#df-95397ee9-c5a8-4d57-b6dd-4a1388c924eb');\n",
              "          const dataTable =\n",
              "            await google.colab.kernel.invokeFunction('convertToInteractive',\n",
              "                                                     [key], {});\n",
              "          if (!dataTable) return;\n",
              "\n",
              "          const docLinkHtml = 'Like what you see? Visit the ' +\n",
              "            '<a target=\"_blank\" href=https://colab.research.google.com/notebooks/data_table.ipynb>data table notebook</a>'\n",
              "            + ' to learn more about interactive tables.';\n",
              "          element.innerHTML = '';\n",
              "          dataTable['output_type'] = 'display_data';\n",
              "          await google.colab.output.renderOutput(dataTable, element);\n",
              "          const docLink = document.createElement('div');\n",
              "          docLink.innerHTML = docLinkHtml;\n",
              "          element.appendChild(docLink);\n",
              "        }\n",
              "      </script>\n",
              "    </div>\n",
              "  </div>\n",
              "  "
            ]
          },
          "metadata": {},
          "execution_count": 25
        }
      ],
      "source": [
        "df = pd.DataFrame({\"Predicted\": node_predictions, \"True\": node_subjects})\n",
        "df.head(20)"
      ]
    },
    {
      "cell_type": "code",
      "execution_count": null,
      "metadata": {
        "id": "UR9cDrtSkf5l"
      },
      "outputs": [],
      "source": [
        "embedding_model = Model(inputs=x_inp, outputs=x_out)"
      ]
    },
    {
      "cell_type": "code",
      "execution_count": null,
      "metadata": {
        "id": "LV5iJ1JLkf5l",
        "outputId": "37bbdbe5-558f-4771-b6a7-2fe9a52ea1ba",
        "colab": {
          "base_uri": "https://localhost:8080/"
        }
      },
      "outputs": [
        {
          "output_type": "stream",
          "name": "stdout",
          "text": [
            "1/1 [==============================] - 0s 140ms/step\n"
          ]
        },
        {
          "output_type": "execute_result",
          "data": {
            "text/plain": [
              "(1, 2708, 16)"
            ]
          },
          "metadata": {},
          "execution_count": 27
        }
      ],
      "source": [
        "emb = embedding_model.predict(all_gen)\n",
        "emb.shape"
      ]
    },
    {
      "cell_type": "markdown",
      "metadata": {
        "id": "-YZ0kKQAkf5l"
      },
      "source": [
        "Converting the output from 16 dimenssions to 2 dimenssions for visualization"
      ]
    },
    {
      "cell_type": "code",
      "execution_count": null,
      "metadata": {
        "id": "2Tj35XMkkf5l"
      },
      "outputs": [],
      "source": [
        "from sklearn.decomposition import PCA\n",
        "from sklearn.manifold import TSNE\n",
        "\n",
        "transform = TSNE  # or PCA"
      ]
    },
    {
      "cell_type": "code",
      "execution_count": null,
      "metadata": {
        "id": "r1VaNXCekf5l",
        "outputId": "fa06b2df-377c-47ca-ecdf-c3ca2fbf1a5e",
        "colab": {
          "base_uri": "https://localhost:8080/"
        }
      },
      "outputs": [
        {
          "output_type": "execute_result",
          "data": {
            "text/plain": [
              "(2708, 16)"
            ]
          },
          "metadata": {},
          "execution_count": 28
        }
      ],
      "source": [
        "X = emb.squeeze(0)\n",
        "X.shape"
      ]
    },
    {
      "cell_type": "code",
      "execution_count": null,
      "metadata": {
        "id": "rWXHvDKGkf5l",
        "outputId": "777ef090-4673-4ce1-9168-746c9f07ae0d",
        "colab": {
          "base_uri": "https://localhost:8080/"
        }
      },
      "outputs": [
        {
          "output_type": "stream",
          "name": "stderr",
          "text": [
            "/usr/local/lib/python3.8/dist-packages/sklearn/manifold/_t_sne.py:780: FutureWarning: The default initialization in TSNE will change from 'random' to 'pca' in 1.2.\n",
            "  warnings.warn(\n",
            "/usr/local/lib/python3.8/dist-packages/sklearn/manifold/_t_sne.py:790: FutureWarning: The default learning rate in TSNE will change from 200.0 to 'auto' in 1.2.\n",
            "  warnings.warn(\n"
          ]
        },
        {
          "output_type": "execute_result",
          "data": {
            "text/plain": [
              "(2708, 2)"
            ]
          },
          "metadata": {},
          "execution_count": 31
        }
      ],
      "source": [
        "trans = transform(n_components=2)\n",
        "X_reduced = trans.fit_transform(X)\n",
        "X_reduced.shape"
      ]
    },
    {
      "cell_type": "code",
      "execution_count": null,
      "metadata": {
        "id": "wUK5nYPEkf5m",
        "outputId": "d3212421-75d1-490b-dc3b-a11d7553b346",
        "colab": {
          "base_uri": "https://localhost:8080/",
          "height": 531
        }
      },
      "outputs": [
        {
          "output_type": "execute_result",
          "data": {
            "text/plain": [
              "[Text(0, 0.5, '$X_2$'),\n",
              " Text(0.5, 0, '$X_1$'),\n",
              " Text(0.5, 1.0, 'TSNE visualization of GCN embeddings for cora dataset'),\n",
              " None]"
            ]
          },
          "metadata": {},
          "execution_count": 32
        },
        {
          "output_type": "display_data",
          "data": {
            "text/plain": [
              "<Figure size 504x504 with 1 Axes>"
            ],
            "image/png": "[encoded data removed]"
          },
          "metadata": {
            "needs_background": "light"
          }
        }
      ],
      "source": [
        "fig, ax = plt.subplots(figsize=(7, 7))\n",
        "ax.scatter(\n",
        "    X_reduced[:, 0],\n",
        "    X_reduced[:, 1],\n",
        "    c=node_subjects.astype(\"category\").cat.codes,\n",
        "    cmap=\"jet\",\n",
        "    alpha=0.7,\n",
        ")\n",
        "ax.set(\n",
        "    aspect=\"equal\",\n",
        "    xlabel=\"$X_1$\",\n",
        "    ylabel=\"$X_2$\",\n",
        "    title=f\"{transform.__name__} visualization of GCN embeddings for cora dataset\",\n",
        ")"
      ]
    }
  ]
}